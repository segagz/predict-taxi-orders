{
 "cells": [
  {
   "cell_type": "markdown",
   "metadata": {},
   "source": [
    "# 1 Descripción del proyecto\n",
    "\n",
    "La compañía Sweet Lift Taxi ha recopilado datos históricos sobre pedidos de taxis en los aeropuertos. Para atraer a más conductores durante las horas pico, necesitamos predecir la cantidad de pedidos de taxis para la próxima hora. Construiré un modelo para dicha predicción."
   ]
  },
  {
   "cell_type": "markdown",
   "metadata": {},
   "source": [
    "## 2 Preparación"
   ]
  },
  {
   "cell_type": "code",
   "execution_count": 1,
   "metadata": {},
   "outputs": [],
   "source": [
    "# cargar librerías\n",
    "\n",
    "import numpy as np\n",
    "import pandas as pd\n",
    "from sklearn.neighbors import NearestNeighbors\n",
    "from sklearn.preprocessing import MaxAbsScaler\n",
    "from sklearn.metrics import mean_squared_error as mse\n",
    "from sklearn.metrics import r2_score\n",
    "import seaborn as sns\n",
    "import math\n",
    "from sklearn.metrics import f1_score\n",
    "import matplotlib.pyplot as plt\n",
    "import sklearn.linear_model\n",
    "import sklearn.metrics\n",
    "import sklearn.neighbors\n",
    "import sklearn.preprocessing\n",
    "from sklearn.linear_model import LogisticRegression, LinearRegression, SGDRegressor\n",
    "from sklearn.ensemble import RandomForestClassifier, AdaBoostClassifier, GradientBoostingRegressor, BaggingClassifier, RandomForestRegressor\n",
    "from sklearn.neighbors import KNeighborsClassifier, KNeighborsRegressor\n",
    "from sklearn.pipeline import Pipeline\n",
    "from sklearn.preprocessing import OneHotEncoder, OrdinalEncoder, StandardScaler\n",
    "from sklearn.impute import SimpleImputer, KNNImputer\n",
    "from sklearn.base import BaseEstimator, TransformerMixin\n",
    "from sklearn.compose import ColumnTransformer\n",
    "from sklearn.model_selection import train_test_split, cross_val_score, RandomizedSearchCV, GridSearchCV, KFold\n",
    "from IPython.display import display\n",
    "from sklearn.preprocessing import StandardScaler\n",
    "from sklearn.tree import DecisionTreeRegressor\n",
    "from xgboost import XGBClassifier, XGBRegressor\n",
    "from catboost import CatBoostRegressor\n",
    "from lightgbm import LGBMRegressor \n",
    "import lightgbm as lgb\n",
    "from statsmodels.tsa.seasonal import seasonal_decompose\n",
    "from statsmodels.tsa.arima.model import ARIMA\n",
    "from statsmodels.tsa.statespace.sarimax import SARIMAX\n",
    "from statsmodels.tsa.stattools import adfuller\n",
    "from statsmodels.graphics.tsaplots import plot_acf, plot_pacf\n",
    "from itertools import product\n",
    "import statsmodels.api as sm\n",
    "from tqdm import tqdm\n",
    "import itertools"
   ]
  },
  {
   "cell_type": "code",
   "execution_count": 2,
   "metadata": {},
   "outputs": [],
   "source": [
    "data = pd.read_csv('/datasets/taxi.csv')"
   ]
  },
  {
   "cell_type": "code",
   "execution_count": 3,
   "metadata": {},
   "outputs": [],
   "source": [
    "df = data.copy()"
   ]
  },
  {
   "cell_type": "code",
   "execution_count": 4,
   "metadata": {},
   "outputs": [
    {
     "data": {
      "text/html": [
       "<div>\n",
       "<style scoped>\n",
       "    .dataframe tbody tr th:only-of-type {\n",
       "        vertical-align: middle;\n",
       "    }\n",
       "\n",
       "    .dataframe tbody tr th {\n",
       "        vertical-align: top;\n",
       "    }\n",
       "\n",
       "    .dataframe thead th {\n",
       "        text-align: right;\n",
       "    }\n",
       "</style>\n",
       "<table border=\"1\" class=\"dataframe\">\n",
       "  <thead>\n",
       "    <tr style=\"text-align: right;\">\n",
       "      <th></th>\n",
       "      <th>datetime</th>\n",
       "      <th>num_orders</th>\n",
       "    </tr>\n",
       "  </thead>\n",
       "  <tbody>\n",
       "    <tr>\n",
       "      <th>0</th>\n",
       "      <td>2018-03-01 00:00:00</td>\n",
       "      <td>9</td>\n",
       "    </tr>\n",
       "    <tr>\n",
       "      <th>1</th>\n",
       "      <td>2018-03-01 00:10:00</td>\n",
       "      <td>14</td>\n",
       "    </tr>\n",
       "    <tr>\n",
       "      <th>2</th>\n",
       "      <td>2018-03-01 00:20:00</td>\n",
       "      <td>28</td>\n",
       "    </tr>\n",
       "    <tr>\n",
       "      <th>3</th>\n",
       "      <td>2018-03-01 00:30:00</td>\n",
       "      <td>20</td>\n",
       "    </tr>\n",
       "    <tr>\n",
       "      <th>4</th>\n",
       "      <td>2018-03-01 00:40:00</td>\n",
       "      <td>32</td>\n",
       "    </tr>\n",
       "  </tbody>\n",
       "</table>\n",
       "</div>"
      ],
      "text/plain": [
       "              datetime  num_orders\n",
       "0  2018-03-01 00:00:00           9\n",
       "1  2018-03-01 00:10:00          14\n",
       "2  2018-03-01 00:20:00          28\n",
       "3  2018-03-01 00:30:00          20\n",
       "4  2018-03-01 00:40:00          32"
      ]
     },
     "execution_count": 4,
     "metadata": {},
     "output_type": "execute_result"
    }
   ],
   "source": [
    "df.head()"
   ]
  },
  {
   "cell_type": "code",
   "execution_count": 5,
   "metadata": {},
   "outputs": [
    {
     "name": "stdout",
     "output_type": "stream",
     "text": [
      "<class 'pandas.core.frame.DataFrame'>\n",
      "RangeIndex: 26496 entries, 0 to 26495\n",
      "Data columns (total 2 columns):\n",
      " #   Column      Non-Null Count  Dtype \n",
      "---  ------      --------------  ----- \n",
      " 0   datetime    26496 non-null  object\n",
      " 1   num_orders  26496 non-null  int64 \n",
      "dtypes: int64(1), object(1)\n",
      "memory usage: 414.1+ KB\n"
     ]
    }
   ],
   "source": [
    "df.info()"
   ]
  },
  {
   "cell_type": "code",
   "execution_count": 6,
   "metadata": {},
   "outputs": [],
   "source": [
    "# Convierto valores en datetime y los transformo en el index\n",
    "\n",
    "df['datetime'] = pd.to_datetime(df['datetime'])\n",
    "df.set_index('datetime', inplace=True)\n"
   ]
  },
  {
   "cell_type": "markdown",
   "metadata": {},
   "source": [
    "## 3 Análisis"
   ]
  },
  {
   "cell_type": "code",
   "execution_count": 7,
   "metadata": {},
   "outputs": [
    {
     "name": "stdout",
     "output_type": "stream",
     "text": [
      "<class 'pandas.core.frame.DataFrame'>\n",
      "DatetimeIndex: 26496 entries, 2018-03-01 00:00:00 to 2018-08-31 23:50:00\n",
      "Data columns (total 1 columns):\n",
      " #   Column      Non-Null Count  Dtype\n",
      "---  ------      --------------  -----\n",
      " 0   num_orders  26496 non-null  int64\n",
      "dtypes: int64(1)\n",
      "memory usage: 414.0 KB\n"
     ]
    }
   ],
   "source": [
    "df.info()"
   ]
  },
  {
   "cell_type": "code",
   "execution_count": 8,
   "metadata": {},
   "outputs": [
    {
     "data": {
      "text/plain": [
       "<AxesSubplot:xlabel='datetime'>"
      ]
     },
     "execution_count": 8,
     "metadata": {},
     "output_type": "execute_result"
    },
    {
     "data": {
      "image/png": "[encoded data removed]",
      "text/plain": [
       "<Figure size 640x480 with 1 Axes>"
      ]
     },
     "metadata": {},
     "output_type": "display_data"
    }
   ],
   "source": [
    "#  Ordeno los datos y hago el resampleo\n",
    "\n",
    "df.sort_index(inplace=True)\n",
    "df = df.resample('1H').sum()\n",
    "df.plot()"
   ]
  },
  {
   "cell_type": "code",
   "execution_count": 9,
   "metadata": {},
   "outputs": [
    {
     "data": {
      "image/png": "[encoded data removed]",
      "text/plain": [
       "<Figure size 600x800 with 3 Axes>"
      ]
     },
     "metadata": {},
     "output_type": "display_data"
    }
   ],
   "source": [
    "decomposed = seasonal_decompose(df)\n",
    "\n",
    "plt.figure(figsize=(6, 8))\n",
    "\n",
    "plt.subplot(311)\n",
    "decomposed.trend.plot(ax=plt.gca())\n",
    "plt.title('Trend')\n",
    "\n",
    "plt.subplot(312)\n",
    "decomposed.seasonal.plot(ax=plt.gca())\n",
    "plt.title('Seasonality')\n",
    "\n",
    "plt.subplot(313)\n",
    "decomposed.resid.plot(ax=plt.gca())\n",
    "plt.title('Residuals')\n",
    "\n",
    "plt.tight_layout()"
   ]
  },
  {
   "cell_type": "code",
   "execution_count": 10,
   "metadata": {},
   "outputs": [
    {
     "name": "stdout",
     "output_type": "stream",
     "text": [
      "True\n"
     ]
    }
   ],
   "source": [
    "print(df.index.is_monotonic)\n"
   ]
  },
  {
   "cell_type": "code",
   "execution_count": 11,
   "metadata": {},
   "outputs": [
    {
     "data": {
      "text/plain": [
       "<AxesSubplot:xlabel='datetime'>"
      ]
     },
     "execution_count": 11,
     "metadata": {},
     "output_type": "execute_result"
    },
    {
     "data": {
      "image/png": "[encoded data removed]",
      "text/plain": [
       "<Figure size 640x480 with 1 Axes>"
      ]
     },
     "metadata": {},
     "output_type": "display_data"
    }
   ],
   "source": [
    "df -= df.shift()\n",
    "df['mean'] = df['num_orders'].rolling(30).mean()\n",
    "df['std'] = df['num_orders'].rolling(30).std()\n",
    "df = df.dropna()\n",
    "df.plot()  "
   ]
  },
  {
   "cell_type": "markdown",
   "metadata": {},
   "source": [
    "## 4 Formación"
   ]
  },
  {
   "cell_type": "code",
   "execution_count": 12,
   "metadata": {},
   "outputs": [
    {
     "name": "stdout",
     "output_type": "stream",
     "text": [
      "2018-03-02 06:00:00 2018-08-13 16:00:00\n",
      "2018-08-13 17:00:00 2018-08-31 23:00:00\n"
     ]
    }
   ],
   "source": [
    "train, test = train_test_split(df, shuffle=False, test_size=0.1)\n",
    "print(train.index.min(), train.index.max())\n",
    "print(test.index.min(), test.index.max())"
   ]
  },
  {
   "cell_type": "markdown",
   "metadata": {},
   "source": [
    "## 5 Prueba"
   ]
  },
  {
   "cell_type": "code",
   "execution_count": 13,
   "metadata": {},
   "outputs": [
    {
     "name": "stdout",
     "output_type": "stream",
     "text": [
      "Pedidos de taxis pronosticado: 2.0\n",
      "RECM: 48.28858164693585\n"
     ]
    }
   ],
   "source": [
    "print('Pedidos de taxis pronosticado:', test['num_orders'].median())\n",
    "pred_median = np.ones(test.shape) * train['num_orders'].median()\n",
    "print('RECM:',  mse(test, pred_median) ** 0.5)"
   ]
  },
  {
   "cell_type": "code",
   "execution_count": 14,
   "metadata": {},
   "outputs": [
    {
     "name": "stdout",
     "output_type": "stream",
     "text": [
      "Pedidos de taxis pronosticado la siguiente hora: 2.0\n",
      "RECM: 53.76492840834796\n"
     ]
    }
   ],
   "source": [
    "print('Pedidos de taxis pronosticado la siguiente hora:', test['num_orders'].median())\n",
    "\n",
    "pred_previous = test.shift() \n",
    "pred_previous.iloc[0] = train.iloc[-1]\n",
    "print('RECM:',  mse(test, pred_previous) ** 0.5) "
   ]
  },
  {
   "cell_type": "code",
   "execution_count": 15,
   "metadata": {
    "scrolled": true
   },
   "outputs": [
    {
     "name": "stdout",
     "output_type": "stream",
     "text": [
      "                     num_orders      mean        std  year  month  day  \\\n",
      "datetime                                                                 \n",
      "2018-03-02 06:00:00         0.0 -3.766667  29.120065  2018      3    2   \n",
      "2018-03-02 07:00:00        -4.0 -2.600000  28.350759  2018      3    2   \n",
      "2018-03-02 08:00:00        39.0 -0.833333  29.252861  2018      3    2   \n",
      "2018-03-02 09:00:00        -1.0 -0.700000  29.242329  2018      3    2   \n",
      "2018-03-02 10:00:00         9.0  0.366667  28.983329  2018      3    2   \n",
      "\n",
      "                     dayofweek  lag_1  rolling_mean  \n",
      "datetime                                             \n",
      "2018-03-02 06:00:00          4    NaN           NaN  \n",
      "2018-03-02 07:00:00          4    0.0           0.0  \n",
      "2018-03-02 08:00:00          4   -4.0          -4.0  \n",
      "2018-03-02 09:00:00          4   39.0          39.0  \n",
      "2018-03-02 10:00:00          4   -1.0          -1.0  \n"
     ]
    },
    {
     "name": "stderr",
     "output_type": "stream",
     "text": [
      "/tmp/ipykernel_371/4052947585.py:2: SettingWithCopyWarning: \n",
      "A value is trying to be set on a copy of a slice from a DataFrame.\n",
      "Try using .loc[row_indexer,col_indexer] = value instead\n",
      "\n",
      "See the caveats in the documentation: https://pandas.pydata.org/pandas-docs/stable/user_guide/indexing.html#returning-a-view-versus-a-copy\n",
      "  data['year'] = data.index.year\n",
      "/tmp/ipykernel_371/4052947585.py:3: SettingWithCopyWarning: \n",
      "A value is trying to be set on a copy of a slice from a DataFrame.\n",
      "Try using .loc[row_indexer,col_indexer] = value instead\n",
      "\n",
      "See the caveats in the documentation: https://pandas.pydata.org/pandas-docs/stable/user_guide/indexing.html#returning-a-view-versus-a-copy\n",
      "  data['month'] = data.index.month\n",
      "/tmp/ipykernel_371/4052947585.py:4: SettingWithCopyWarning: \n",
      "A value is trying to be set on a copy of a slice from a DataFrame.\n",
      "Try using .loc[row_indexer,col_indexer] = value instead\n",
      "\n",
      "See the caveats in the documentation: https://pandas.pydata.org/pandas-docs/stable/user_guide/indexing.html#returning-a-view-versus-a-copy\n",
      "  data['day'] = data.index.day\n",
      "/tmp/ipykernel_371/4052947585.py:5: SettingWithCopyWarning: \n",
      "A value is trying to be set on a copy of a slice from a DataFrame.\n",
      "Try using .loc[row_indexer,col_indexer] = value instead\n",
      "\n",
      "See the caveats in the documentation: https://pandas.pydata.org/pandas-docs/stable/user_guide/indexing.html#returning-a-view-versus-a-copy\n",
      "  data['dayofweek'] = data.index.dayofweek\n",
      "/tmp/ipykernel_371/4052947585.py:8: SettingWithCopyWarning: \n",
      "A value is trying to be set on a copy of a slice from a DataFrame.\n",
      "Try using .loc[row_indexer,col_indexer] = value instead\n",
      "\n",
      "See the caveats in the documentation: https://pandas.pydata.org/pandas-docs/stable/user_guide/indexing.html#returning-a-view-versus-a-copy\n",
      "  data['lag_{}'.format(lag)] = data['num_orders'].shift(lag)\n",
      "/tmp/ipykernel_371/4052947585.py:9: SettingWithCopyWarning: \n",
      "A value is trying to be set on a copy of a slice from a DataFrame.\n",
      "Try using .loc[row_indexer,col_indexer] = value instead\n",
      "\n",
      "See the caveats in the documentation: https://pandas.pydata.org/pandas-docs/stable/user_guide/indexing.html#returning-a-view-versus-a-copy\n",
      "  data['rolling_mean'] = (data['num_orders'].shift().rolling(rolling_mean_size).mean())\n"
     ]
    }
   ],
   "source": [
    "def make_features(data, max_lag, rolling_mean_size):\n",
    "    data['year'] = data.index.year\n",
    "    data['month'] = data.index.month\n",
    "    data['day'] = data.index.day\n",
    "    data['dayofweek'] = data.index.dayofweek\n",
    "    \n",
    "    for lag in range(1, max_lag + 1):\n",
    "        data['lag_{}'.format(lag)] = data['num_orders'].shift(lag)\n",
    "    data['rolling_mean'] = (data['num_orders'].shift().rolling(rolling_mean_size).mean())\n",
    "\n",
    "\n",
    "make_features(df, 1, 1)\n",
    "print(df.head())"
   ]
  },
  {
   "cell_type": "code",
   "execution_count": 16,
   "metadata": {},
   "outputs": [
    {
     "name": "stdout",
     "output_type": "stream",
     "text": [
      "                     num_orders      mean        std  year  month  day  \\\n",
      "datetime                                                                 \n",
      "2018-03-02 07:00:00        -4.0 -2.600000  28.350759  2018      3    2   \n",
      "2018-03-02 08:00:00        39.0 -0.833333  29.252861  2018      3    2   \n",
      "2018-03-02 09:00:00        -1.0 -0.700000  29.242329  2018      3    2   \n",
      "2018-03-02 10:00:00         9.0  0.366667  28.983329  2018      3    2   \n",
      "2018-03-02 11:00:00        37.0  2.833333  28.842119  2018      3    2   \n",
      "\n",
      "                     dayofweek  lag_1  rolling_mean  \n",
      "datetime                                             \n",
      "2018-03-02 07:00:00          4    0.0           0.0  \n",
      "2018-03-02 08:00:00          4   -4.0          -4.0  \n",
      "2018-03-02 09:00:00          4   39.0          39.0  \n",
      "2018-03-02 10:00:00          4   -1.0          -1.0  \n",
      "2018-03-02 11:00:00          4    9.0           9.0  \n"
     ]
    }
   ],
   "source": [
    "df= df.dropna()\n",
    "print(df.head())\n",
    "\n",
    "features_train = train.drop(['num_orders'], axis=1)\n",
    "target_train = train['num_orders']\n",
    "features_test = test.drop(['num_orders'], axis=1)\n",
    "target_test = test['num_orders']"
   ]
  },
  {
   "cell_type": "code",
   "execution_count": 17,
   "metadata": {},
   "outputs": [
    {
     "name": "stdout",
     "output_type": "stream",
     "text": [
      "RECM para el conjunto de entrenamiento: 33.83275637564981\n",
      "RECM para el conjunto de prueba: 56.35966048231773\n"
     ]
    }
   ],
   "source": [
    "model = LinearRegression()\n",
    "model.fit(features_train, target_train)\n",
    "\n",
    "pred_train = model.predict(features_train)\n",
    "pred_test = model.predict(features_test)\n",
    "\n",
    "print(\"RECM para el conjunto de entrenamiento:\", mse(target_train, pred_train) ** 0.5)\n",
    "\n",
    "print(\"RECM para el conjunto de prueba:\", mse(target_test, pred_test) ** 0.5)"
   ]
  },
  {
   "cell_type": "code",
   "execution_count": 18,
   "metadata": {},
   "outputs": [
    {
     "name": "stdout",
     "output_type": "stream",
     "text": [
      "RECM test =  60.3900070537588\n"
     ]
    }
   ],
   "source": [
    "# LightGBM\n",
    "# búsqueda de hiperparámetros\n",
    "# Creé una instancia de LightGBM Regressor con recm. \n",
    "model = LGBMRegressor(learning_rate=0.1,\n",
    "    num_leaves=31,\n",
    "    max_depth=-1,\n",
    "    n_estimators=100,\n",
    "    min_child_samples=20,\n",
    "    subsample=0.8,\n",
    "    colsample_bytree=0.8,\n",
    "    reg_alpha=0.0,\n",
    "    reg_lambda=0.0,\n",
    "    metric='rmse') \n",
    "  \n",
    "# Entrenar el modelo con el conjunto de entrenamiento. \n",
    "model.fit(features_train, target_train)\n",
    "\n",
    "# Hacer predicciones con los datos de prueba junto con su tiempo de ejecución. \n",
    "\n",
    "val_t_predictions = model.predict(features_test)\n",
    "mse_t = mse(target_test, val_t_predictions)\n",
    "print(\"RECM test = \", mse_t ** 0.5 )"
   ]
  },
  {
   "cell_type": "code",
   "execution_count": 19,
   "metadata": {},
   "outputs": [
    {
     "name": "stdout",
     "output_type": "stream",
     "text": [
      "ADF Statistic: -15.739395\n",
      "p-value: 0.000000\n"
     ]
    }
   ],
   "source": [
    "# Ver si la serie es estacionaria (dado el resultado sí lo es)\n",
    "\n",
    "result = adfuller(df['num_orders'].dropna())\n",
    "print('ADF Statistic: %f' % result[0])\n",
    "print('p-value: %f' % result[1])"
   ]
  },
  {
   "cell_type": "code",
   "execution_count": 20,
   "metadata": {},
   "outputs": [
    {
     "data": {
      "image/png": "[encoded data removed]",
      "text/plain": [
       "<Figure size 640x480 with 1 Axes>"
      ]
     },
     "metadata": {},
     "output_type": "display_data"
    },
    {
     "data": {
      "image/png": "[encoded data removed]",
      "text/plain": [
       "<Figure size 640x480 with 1 Axes>"
      ]
     },
     "metadata": {},
     "output_type": "display_data"
    }
   ],
   "source": [
    "# Plot ACF\n",
    "plot_acf(df['num_orders'].diff().dropna())\n",
    "plt.show()\n",
    "\n",
    "# Plot PACF\n",
    "plot_pacf(df['num_orders'].diff().dropna())\n",
    "plt.show()"
   ]
  },
  {
   "cell_type": "code",
   "execution_count": 21,
   "metadata": {},
   "outputs": [
    {
     "name": "stderr",
     "output_type": "stream",
     "text": [
      "/opt/conda/envs/python3/lib/python3.9/site-packages/statsmodels/base/model.py:604: ConvergenceWarning: Maximum Likelihood optimization failed to converge. Check mle_retvals\n",
      "  warnings.warn(\"Maximum Likelihood optimization failed to \"\n"
     ]
    },
    {
     "name": "stdout",
     "output_type": "stream",
     "text": [
      "RMSE: 58.859848648388855\n"
     ]
    }
   ],
   "source": [
    "# Define el modelo ARIMA\n",
    "\n",
    "p= 19\n",
    "d= 0\n",
    "q= 5\n",
    "\n",
    "model = ARIMA(train['num_orders'], order=(p, d, q))\n",
    "model_fit = model.fit()\n",
    "\n",
    "# Realiza predicciones\n",
    "predictions = model_fit.forecast(steps=len(features_test))\n",
    "\n",
    "# Calcula RMSE\n",
    "rmse = np.sqrt(mse(target_test, predictions))\n",
    "print(f'RMSE: {rmse}')"
   ]
  },
  {
   "cell_type": "code",
   "execution_count": 22,
   "metadata": {},
   "outputs": [
    {
     "name": "stdout",
     "output_type": "stream",
     "text": [
      "RUNNING THE L-BFGS-B CODE\n",
      "\n",
      "           * * *\n",
      "\n",
      "Machine precision = 2.220D-16\n",
      " N =            3     M =           10\n",
      "\n",
      "At X0         0 variables are exactly at the bounds\n",
      "\n",
      "At iterate    0    f=  4.97902D+00    |proj g|=  4.32559D-01\n"
     ]
    },
    {
     "name": "stderr",
     "output_type": "stream",
     "text": [
      " This problem is unconstrained.\n"
     ]
    },
    {
     "name": "stdout",
     "output_type": "stream",
     "text": [
      "  ys=-2.466E-02  -gs= 5.583E-02 BFGS update SKIPPED\n",
      "\n",
      "At iterate    5    f=  4.85838D+00    |proj g|=  5.19049D-01\n",
      "\n",
      "At iterate   10    f=  4.85410D+00    |proj g|=  6.50038D-03\n",
      "\n",
      "At iterate   15    f=  4.85368D+00    |proj g|=  1.05182D-01\n",
      "\n",
      "At iterate   20    f=  4.84634D+00    |proj g|=  3.33414D-01\n",
      "\n",
      "At iterate   25    f=  4.83802D+00    |proj g|=  1.14494D-02\n",
      "\n",
      "           * * *\n",
      "\n",
      "Tit   = total number of iterations\n",
      "Tnf   = total number of function evaluations\n",
      "Tnint = total number of segments explored during Cauchy searches\n",
      "Skip  = number of BFGS updates skipped\n",
      "Nact  = number of active bounds at final generalized Cauchy point\n",
      "Projg = norm of the final projected gradient\n",
      "F     = final function value\n",
      "\n",
      "           * * *\n",
      "\n",
      "   N    Tit     Tnf  Tnint  Skip  Nact     Projg        F\n",
      "    3     28     46      1     1     0   1.584D-05   4.838D+00\n",
      "  F =   4.8380129519828863     \n",
      "\n",
      "CONVERGENCE: REL_REDUCTION_OF_F_<=_FACTR*EPSMCH             \n",
      "Best ARIMA parameters: ((0, 0, 0), (1, 0, 1, 24))\n"
     ]
    }
   ],
   "source": [
    "# Define the p, d, q and P, D, Q parameters to take any value between 0 and 2\n",
    "p = d = q = range(0, 1)\n",
    "pdq = list(itertools.product(p, d, q))\n",
    "\n",
    "# Seasonal parameters\n",
    "seasonal_pdq = [(1, 0, 1, 24) for x in pdq]\n",
    "\n",
    "best_aic = np.inf\n",
    "best_params = None\n",
    "\n",
    "for param in pdq:\n",
    "    for seasonal_param in seasonal_pdq:\n",
    "        try:\n",
    "            mod = SARIMAX(df['num_orders'],\n",
    "                          order=param,\n",
    "                          seasonal_order=seasonal_param,\n",
    "                          enforce_stationarity=False,\n",
    "                          enforce_invertibility=False)\n",
    "            results = mod.fit()\n",
    "\n",
    "            if results.aic < best_aic:\n",
    "                best_aic = results.aic\n",
    "                best_params = (param, seasonal_param)\n",
    "        except:\n",
    "            continue\n",
    "\n",
    "print(f'Best ARIMA parameters: {best_params}')"
   ]
  },
  {
   "cell_type": "code",
   "execution_count": 24,
   "metadata": {},
   "outputs": [
    {
     "name": "stdout",
     "output_type": "stream",
     "text": [
      "RUNNING THE L-BFGS-B CODE\n",
      "\n",
      "           * * *\n",
      "\n",
      "Machine precision = 2.220D-16\n",
      " N =            3     M =           10\n",
      "\n",
      "At X0         0 variables are exactly at the bounds\n",
      "\n",
      "At iterate    0    f=  4.90410D+00    |proj g|=  2.34627D-01\n"
     ]
    },
    {
     "name": "stderr",
     "output_type": "stream",
     "text": [
      " This problem is unconstrained.\n"
     ]
    },
    {
     "name": "stdout",
     "output_type": "stream",
     "text": [
      "\n",
      "At iterate    5    f=  4.83479D+00    |proj g|=  7.87896D-02\n",
      "\n",
      "At iterate   10    f=  4.78104D+00    |proj g|=  1.60056D-02\n",
      "\n",
      "At iterate   15    f=  4.77335D+00    |proj g|=  8.71104D-04\n",
      "\n",
      "At iterate   20    f=  4.77264D+00    |proj g|=  1.64881D-06\n",
      "\n",
      "           * * *\n",
      "\n",
      "Tit   = total number of iterations\n",
      "Tnf   = total number of function evaluations\n",
      "Tnint = total number of segments explored during Cauchy searches\n",
      "Skip  = number of BFGS updates skipped\n",
      "Nact  = number of active bounds at final generalized Cauchy point\n",
      "Projg = norm of the final projected gradient\n",
      "F     = final function value\n",
      "\n",
      "           * * *\n",
      "\n",
      "   N    Tit     Tnf  Tnint  Skip  Nact     Projg        F\n",
      "    3     20     23      1     0     0   1.649D-06   4.773D+00\n",
      "  F =   4.7726411059224372     \n",
      "\n",
      "CONVERGENCE: NORM_OF_PROJECTED_GRADIENT_<=_PGTOL            \n",
      "RMSE: 49.402224715375475\n"
     ]
    }
   ],
   "source": [
    "\n",
    "# Fit model with best parameters\n",
    "model = SARIMAX(train['num_orders'], order=best_params[0], seasonal_order=best_params[1])\n",
    "model_fit = model.fit()\n",
    "\n",
    "# Forecast\n",
    "predictions = model_fit.forecast(steps=len(test))\n",
    "\n",
    "# Calculate RMSE\n",
    "rmse = np.sqrt(mse(test['num_orders'], predictions))\n",
    "print(f'RMSE: {rmse}')"
   ]
  },
  {
   "cell_type": "code",
   "execution_count": null,
   "metadata": {},
   "outputs": [],
   "source": []
  }
 ],
 "metadata": {
  "ExecuteTimeLog": [
   {
    "duration": 373,
    "start_time": "2024-08-06T16:27:20.383Z"
   },
   {
    "duration": 6200,
    "start_time": "2024-08-06T16:27:23.792Z"
   },
   {
    "duration": 49,
    "start_time": "2024-08-06T16:27:29.996Z"
   },
   {
    "duration": 27,
    "start_time": "2024-08-06T16:27:36.847Z"
   },
   {
    "duration": 7,
    "start_time": "2024-08-06T16:27:51.471Z"
   },
   {
    "duration": 18,
    "start_time": "2024-08-06T16:28:12.525Z"
   },
   {
    "duration": 22,
    "start_time": "2024-08-06T16:36:37.819Z"
   },
   {
    "duration": 23,
    "start_time": "2024-08-06T16:42:28.030Z"
   },
   {
    "duration": 418,
    "start_time": "2024-08-06T16:42:46.465Z"
   },
   {
    "duration": 5,
    "start_time": "2024-08-06T16:42:52.120Z"
   },
   {
    "duration": 1169,
    "start_time": "2024-08-06T16:54:48.450Z"
   },
   {
    "duration": 1886,
    "start_time": "2024-08-06T16:57:06.699Z"
   },
   {
    "duration": 31,
    "start_time": "2024-08-06T16:57:08.590Z"
   },
   {
    "duration": 6,
    "start_time": "2024-08-06T16:57:08.625Z"
   },
   {
    "duration": 16,
    "start_time": "2024-08-06T16:57:08.636Z"
   },
   {
    "duration": 49,
    "start_time": "2024-08-06T16:57:08.655Z"
   },
   {
    "duration": 17,
    "start_time": "2024-08-06T16:57:08.707Z"
   },
   {
    "duration": 434,
    "start_time": "2024-08-06T16:57:08.727Z"
   },
   {
    "duration": 5,
    "start_time": "2024-08-06T16:57:09.164Z"
   },
   {
    "duration": 1481,
    "start_time": "2024-08-06T16:57:09.189Z"
   },
   {
    "duration": 101,
    "start_time": "2024-08-06T17:07:32.260Z"
   },
   {
    "duration": 11,
    "start_time": "2024-08-06T17:08:16.747Z"
   },
   {
    "duration": 13,
    "start_time": "2024-08-06T17:08:36.653Z"
   },
   {
    "duration": 528,
    "start_time": "2024-08-06T17:09:10.333Z"
   },
   {
    "duration": 339,
    "start_time": "2024-08-08T19:16:47.899Z"
   },
   {
    "duration": 5293,
    "start_time": "2024-08-08T19:16:54.350Z"
   },
   {
    "duration": 32,
    "start_time": "2024-08-08T19:16:59.647Z"
   },
   {
    "duration": 4,
    "start_time": "2024-08-08T19:16:59.682Z"
   },
   {
    "duration": 14,
    "start_time": "2024-08-08T19:16:59.689Z"
   },
   {
    "duration": 17,
    "start_time": "2024-08-08T19:16:59.734Z"
   },
   {
    "duration": 13,
    "start_time": "2024-08-08T19:16:59.753Z"
   },
   {
    "duration": 456,
    "start_time": "2024-08-08T19:16:59.769Z"
   },
   {
    "duration": 5,
    "start_time": "2024-08-08T19:17:00.232Z"
   },
   {
    "duration": 1278,
    "start_time": "2024-08-08T19:17:00.240Z"
   },
   {
    "duration": 0,
    "start_time": "2024-08-08T19:17:01.521Z"
   },
   {
    "duration": 0,
    "start_time": "2024-08-08T19:17:01.523Z"
   },
   {
    "duration": 429,
    "start_time": "2024-08-08T19:23:28.848Z"
   },
   {
    "duration": 14,
    "start_time": "2024-08-08T19:25:25.861Z"
   },
   {
    "duration": 1689,
    "start_time": "2024-08-08T19:26:05.838Z"
   },
   {
    "duration": 25,
    "start_time": "2024-08-08T19:26:07.532Z"
   },
   {
    "duration": 4,
    "start_time": "2024-08-08T19:26:07.560Z"
   },
   {
    "duration": 12,
    "start_time": "2024-08-08T19:26:07.568Z"
   },
   {
    "duration": 49,
    "start_time": "2024-08-08T19:26:07.585Z"
   },
   {
    "duration": 13,
    "start_time": "2024-08-08T19:26:07.637Z"
   },
   {
    "duration": 12,
    "start_time": "2024-08-08T19:26:07.653Z"
   },
   {
    "duration": 392,
    "start_time": "2024-08-08T19:26:07.668Z"
   },
   {
    "duration": 5,
    "start_time": "2024-08-08T19:26:08.063Z"
   },
   {
    "duration": 446,
    "start_time": "2024-08-08T19:26:08.071Z"
   },
   {
    "duration": 34,
    "start_time": "2024-08-08T19:26:53.985Z"
   },
   {
    "duration": 242,
    "start_time": "2024-08-08T19:28:41.081Z"
   },
   {
    "duration": 349,
    "start_time": "2024-08-08T19:28:53.785Z"
   },
   {
    "duration": 1655,
    "start_time": "2024-08-08T19:30:02.567Z"
   },
   {
    "duration": 29,
    "start_time": "2024-08-08T19:30:04.225Z"
   },
   {
    "duration": 4,
    "start_time": "2024-08-08T19:30:04.257Z"
   },
   {
    "duration": 13,
    "start_time": "2024-08-08T19:30:04.265Z"
   },
   {
    "duration": 17,
    "start_time": "2024-08-08T19:30:04.281Z"
   },
   {
    "duration": 13,
    "start_time": "2024-08-08T19:30:04.334Z"
   },
   {
    "duration": 13,
    "start_time": "2024-08-08T19:30:04.350Z"
   },
   {
    "duration": 400,
    "start_time": "2024-08-08T19:30:04.366Z"
   },
   {
    "duration": 1000,
    "start_time": "2024-08-08T19:30:04.769Z"
   },
   {
    "duration": 5,
    "start_time": "2024-08-08T19:30:05.774Z"
   },
   {
    "duration": 509,
    "start_time": "2024-08-08T19:30:05.782Z"
   },
   {
    "duration": 10,
    "start_time": "2024-08-08T19:32:04.355Z"
   },
   {
    "duration": 1675,
    "start_time": "2024-08-08T19:32:21.980Z"
   },
   {
    "duration": 25,
    "start_time": "2024-08-08T19:32:23.658Z"
   },
   {
    "duration": 4,
    "start_time": "2024-08-08T19:32:23.686Z"
   },
   {
    "duration": 39,
    "start_time": "2024-08-08T19:32:23.695Z"
   },
   {
    "duration": 20,
    "start_time": "2024-08-08T19:32:23.738Z"
   },
   {
    "duration": 14,
    "start_time": "2024-08-08T19:32:23.762Z"
   },
   {
    "duration": 15,
    "start_time": "2024-08-08T19:32:23.778Z"
   },
   {
    "duration": 367,
    "start_time": "2024-08-08T19:32:23.834Z"
   },
   {
    "duration": 1025,
    "start_time": "2024-08-08T19:32:24.204Z"
   },
   {
    "duration": 9,
    "start_time": "2024-08-08T19:32:25.234Z"
   },
   {
    "duration": 5,
    "start_time": "2024-08-08T19:32:25.247Z"
   },
   {
    "duration": 513,
    "start_time": "2024-08-08T19:32:25.256Z"
   },
   {
    "duration": 13,
    "start_time": "2024-08-08T19:34:36.232Z"
   },
   {
    "duration": 433,
    "start_time": "2024-08-08T19:40:58.278Z"
   },
   {
    "duration": 8,
    "start_time": "2024-08-08T19:42:47.113Z"
   },
   {
    "duration": 6,
    "start_time": "2024-08-08T19:42:52.407Z"
   },
   {
    "duration": 7,
    "start_time": "2024-08-08T19:43:21.777Z"
   },
   {
    "duration": 10,
    "start_time": "2024-08-08T19:46:15.688Z"
   },
   {
    "duration": 10,
    "start_time": "2024-08-08T19:47:37.730Z"
   },
   {
    "duration": 5,
    "start_time": "2024-08-08T19:51:21.583Z"
   },
   {
    "duration": 468,
    "start_time": "2024-08-08T19:51:31.392Z"
   },
   {
    "duration": 49,
    "start_time": "2024-08-08T19:52:02.951Z"
   },
   {
    "duration": 36,
    "start_time": "2024-08-08T19:53:39.515Z"
   },
   {
    "duration": 9,
    "start_time": "2024-08-08T19:57:45.951Z"
   },
   {
    "duration": 11,
    "start_time": "2024-08-08T19:57:57.265Z"
   },
   {
    "duration": 40,
    "start_time": "2024-08-08T19:58:26.982Z"
   },
   {
    "duration": 144,
    "start_time": "2024-08-08T19:59:19.664Z"
   },
   {
    "duration": 125,
    "start_time": "2024-08-08T19:59:28.682Z"
   },
   {
    "duration": 215,
    "start_time": "2024-08-08T19:59:46.818Z"
   },
   {
    "duration": 103,
    "start_time": "2024-08-08T19:59:53.765Z"
   },
   {
    "duration": 778,
    "start_time": "2024-08-08T20:02:19.871Z"
   },
   {
    "duration": 703,
    "start_time": "2024-08-08T20:02:50.990Z"
   },
   {
    "duration": 1545,
    "start_time": "2024-08-08T20:03:06.495Z"
   },
   {
    "duration": 685,
    "start_time": "2024-08-08T20:03:53.789Z"
   },
   {
    "duration": 210,
    "start_time": "2024-08-08T20:07:15.941Z"
   },
   {
    "duration": 27,
    "start_time": "2024-08-08T20:07:46.088Z"
   },
   {
    "duration": 1285,
    "start_time": "2024-08-08T20:07:57.047Z"
   },
   {
    "duration": 1089,
    "start_time": "2024-08-08T20:08:33.144Z"
   },
   {
    "duration": 1260,
    "start_time": "2024-08-08T20:08:45.828Z"
   },
   {
    "duration": 25,
    "start_time": "2024-08-08T20:10:15.533Z"
   },
   {
    "duration": 8,
    "start_time": "2024-08-08T20:10:44.637Z"
   },
   {
    "duration": 1097,
    "start_time": "2024-08-08T20:10:58.104Z"
   },
   {
    "duration": 1190,
    "start_time": "2024-08-08T20:11:44.021Z"
   },
   {
    "duration": 1701,
    "start_time": "2024-08-08T20:11:51.886Z"
   },
   {
    "duration": 27,
    "start_time": "2024-08-08T20:11:53.591Z"
   },
   {
    "duration": 12,
    "start_time": "2024-08-08T20:11:53.621Z"
   },
   {
    "duration": 13,
    "start_time": "2024-08-08T20:11:53.636Z"
   },
   {
    "duration": 18,
    "start_time": "2024-08-08T20:11:53.655Z"
   },
   {
    "duration": 56,
    "start_time": "2024-08-08T20:11:53.676Z"
   },
   {
    "duration": 14,
    "start_time": "2024-08-08T20:11:53.735Z"
   },
   {
    "duration": 383,
    "start_time": "2024-08-08T20:11:53.752Z"
   },
   {
    "duration": 1015,
    "start_time": "2024-08-08T20:11:54.138Z"
   },
   {
    "duration": 4,
    "start_time": "2024-08-08T20:11:55.157Z"
   },
   {
    "duration": 506,
    "start_time": "2024-08-08T20:11:55.165Z"
   },
   {
    "duration": 10,
    "start_time": "2024-08-08T20:11:55.674Z"
   },
   {
    "duration": 11,
    "start_time": "2024-08-08T20:11:55.686Z"
   },
   {
    "duration": 37,
    "start_time": "2024-08-08T20:11:55.703Z"
   },
   {
    "duration": 126,
    "start_time": "2024-08-08T20:11:55.743Z"
   },
   {
    "duration": 704,
    "start_time": "2024-08-08T20:11:55.872Z"
   },
   {
    "duration": 254,
    "start_time": "2024-08-08T20:11:56.579Z"
   },
   {
    "duration": 1434,
    "start_time": "2024-08-08T20:11:56.837Z"
   },
   {
    "duration": 104,
    "start_time": "2024-08-08T20:44:25.953Z"
   },
   {
    "duration": 662,
    "start_time": "2024-08-08T20:44:34.263Z"
   },
   {
    "duration": 266,
    "start_time": "2024-08-08T20:44:36.777Z"
   },
   {
    "duration": 1181,
    "start_time": "2024-08-08T20:44:38.711Z"
   },
   {
    "duration": 822,
    "start_time": "2024-08-08T20:45:18.960Z"
   },
   {
    "duration": 6,
    "start_time": "2024-08-08T20:45:22.815Z"
   },
   {
    "duration": 657,
    "start_time": "2024-08-08T20:45:24.823Z"
   },
   {
    "duration": 1724,
    "start_time": "2024-08-08T20:45:34.763Z"
   },
   {
    "duration": 25,
    "start_time": "2024-08-08T20:45:36.491Z"
   },
   {
    "duration": 17,
    "start_time": "2024-08-08T20:45:36.519Z"
   },
   {
    "duration": 14,
    "start_time": "2024-08-08T20:45:36.541Z"
   },
   {
    "duration": 22,
    "start_time": "2024-08-08T20:45:36.561Z"
   },
   {
    "duration": 46,
    "start_time": "2024-08-08T20:45:36.588Z"
   },
   {
    "duration": 13,
    "start_time": "2024-08-08T20:45:36.637Z"
   },
   {
    "duration": 382,
    "start_time": "2024-08-08T20:45:36.653Z"
   },
   {
    "duration": 1015,
    "start_time": "2024-08-08T20:45:37.038Z"
   },
   {
    "duration": 5,
    "start_time": "2024-08-08T20:45:38.059Z"
   },
   {
    "duration": 509,
    "start_time": "2024-08-08T20:45:38.067Z"
   },
   {
    "duration": 8,
    "start_time": "2024-08-08T20:45:38.579Z"
   },
   {
    "duration": 12,
    "start_time": "2024-08-08T20:45:38.590Z"
   },
   {
    "duration": 10,
    "start_time": "2024-08-08T20:45:38.634Z"
   },
   {
    "duration": 126,
    "start_time": "2024-08-08T20:45:38.648Z"
   },
   {
    "duration": 720,
    "start_time": "2024-08-08T20:45:38.777Z"
   },
   {
    "duration": 234,
    "start_time": "2024-08-08T20:45:39.501Z"
   },
   {
    "duration": 1340,
    "start_time": "2024-08-08T20:45:39.738Z"
   },
   {
    "duration": 21,
    "start_time": "2024-08-08T20:49:03.334Z"
   },
   {
    "duration": 663,
    "start_time": "2024-08-08T20:49:10.463Z"
   },
   {
    "duration": 297,
    "start_time": "2024-08-08T20:49:13.145Z"
   },
   {
    "duration": 1292,
    "start_time": "2024-08-08T20:49:14.249Z"
   },
   {
    "duration": 6652,
    "start_time": "2024-08-08T20:50:59.805Z"
   },
   {
    "duration": 10626,
    "start_time": "2024-08-08T20:51:30.549Z"
   },
   {
    "duration": 7,
    "start_time": "2024-08-08T20:57:18.153Z"
   },
   {
    "duration": 427,
    "start_time": "2024-08-08T20:57:28.052Z"
   },
   {
    "duration": 39,
    "start_time": "2024-08-08T20:57:42.871Z"
   },
   {
    "duration": 9,
    "start_time": "2024-08-08T20:57:57.299Z"
   },
   {
    "duration": 5374,
    "start_time": "2024-08-08T21:27:00.171Z"
   },
   {
    "duration": 38,
    "start_time": "2024-08-08T21:27:05.549Z"
   },
   {
    "duration": 5,
    "start_time": "2024-08-08T21:27:05.590Z"
   },
   {
    "duration": 13,
    "start_time": "2024-08-08T21:27:05.599Z"
   },
   {
    "duration": 18,
    "start_time": "2024-08-08T21:27:05.635Z"
   },
   {
    "duration": 13,
    "start_time": "2024-08-08T21:27:05.656Z"
   },
   {
    "duration": 14,
    "start_time": "2024-08-08T21:27:05.673Z"
   },
   {
    "duration": 466,
    "start_time": "2024-08-08T21:27:05.690Z"
   },
   {
    "duration": 992,
    "start_time": "2024-08-08T21:27:06.160Z"
   },
   {
    "duration": 5,
    "start_time": "2024-08-08T21:27:07.163Z"
   },
   {
    "duration": 435,
    "start_time": "2024-08-08T21:27:07.172Z"
   },
   {
    "duration": 24,
    "start_time": "2024-08-08T21:27:07.611Z"
   },
   {
    "duration": 11,
    "start_time": "2024-08-08T21:27:07.638Z"
   },
   {
    "duration": 11,
    "start_time": "2024-08-08T21:27:07.654Z"
   },
   {
    "duration": 22,
    "start_time": "2024-08-08T21:27:07.668Z"
   },
   {
    "duration": 730,
    "start_time": "2024-08-08T21:27:07.734Z"
   },
   {
    "duration": 266,
    "start_time": "2024-08-08T21:27:08.467Z"
   },
   {
    "duration": 10749,
    "start_time": "2024-08-08T21:27:08.736Z"
   },
   {
    "duration": 1274,
    "start_time": "2024-08-08T21:27:19.488Z"
   },
   {
    "duration": 269604,
    "start_time": "2024-08-08T21:29:59.098Z"
   },
   {
    "duration": 1670,
    "start_time": "2024-08-08T21:34:28.705Z"
   },
   {
    "duration": 380,
    "start_time": "2024-08-08T21:36:08.885Z"
   },
   {
    "duration": 631,
    "start_time": "2024-08-08T21:40:50.719Z"
   },
   {
    "duration": 21,
    "start_time": "2024-08-08T21:41:04.930Z"
   },
   {
    "duration": 1662,
    "start_time": "2024-08-08T21:41:09.347Z"
   },
   {
    "duration": 10,
    "start_time": "2024-08-08T21:41:39.989Z"
   },
   {
    "duration": 201,
    "start_time": "2024-08-08T21:42:08.153Z"
   },
   {
    "duration": 677,
    "start_time": "2024-08-08T21:42:45.414Z"
   },
   {
    "duration": 5834,
    "start_time": "2024-08-09T02:14:11.696Z"
   },
   {
    "duration": 54,
    "start_time": "2024-08-09T02:14:17.535Z"
   },
   {
    "duration": 8,
    "start_time": "2024-08-09T02:14:17.592Z"
   },
   {
    "duration": 15,
    "start_time": "2024-08-09T02:14:17.606Z"
   },
   {
    "duration": 45,
    "start_time": "2024-08-09T02:14:17.628Z"
   },
   {
    "duration": 17,
    "start_time": "2024-08-09T02:14:17.679Z"
   },
   {
    "duration": 15,
    "start_time": "2024-08-09T02:14:17.700Z"
   },
   {
    "duration": 479,
    "start_time": "2024-08-09T02:14:17.718Z"
   },
   {
    "duration": 1132,
    "start_time": "2024-08-09T02:14:18.200Z"
   },
   {
    "duration": 5,
    "start_time": "2024-08-09T02:14:19.335Z"
   },
   {
    "duration": 444,
    "start_time": "2024-08-09T02:14:19.343Z"
   },
   {
    "duration": 8,
    "start_time": "2024-08-09T02:14:19.791Z"
   },
   {
    "duration": 13,
    "start_time": "2024-08-09T02:14:19.803Z"
   },
   {
    "duration": 47,
    "start_time": "2024-08-09T02:14:19.821Z"
   },
   {
    "duration": 42,
    "start_time": "2024-08-09T02:14:19.872Z"
   },
   {
    "duration": 736,
    "start_time": "2024-08-09T02:14:19.925Z"
   },
   {
    "duration": 326,
    "start_time": "2024-08-09T02:14:20.664Z"
   },
   {
    "duration": 267062,
    "start_time": "2024-08-09T02:14:20.993Z"
   },
   {
    "duration": 1757,
    "start_time": "2024-08-09T02:18:48.059Z"
   },
   {
    "duration": 5442,
    "start_time": "2024-08-09T20:18:26.536Z"
   },
   {
    "duration": 449,
    "start_time": "2024-08-09T20:20:18.255Z"
   },
   {
    "duration": 27,
    "start_time": "2024-08-09T20:21:47.751Z"
   },
   {
    "duration": 1737,
    "start_time": "2024-08-09T20:21:59.681Z"
   },
   {
    "duration": 36,
    "start_time": "2024-08-09T20:22:01.430Z"
   },
   {
    "duration": 4,
    "start_time": "2024-08-09T20:22:01.469Z"
   },
   {
    "duration": 14,
    "start_time": "2024-08-09T20:22:01.478Z"
   },
   {
    "duration": 38,
    "start_time": "2024-08-09T20:22:01.494Z"
   },
   {
    "duration": 13,
    "start_time": "2024-08-09T20:22:01.535Z"
   },
   {
    "duration": 12,
    "start_time": "2024-08-09T20:22:01.551Z"
   },
   {
    "duration": 425,
    "start_time": "2024-08-09T20:22:01.566Z"
   },
   {
    "duration": 1136,
    "start_time": "2024-08-09T20:22:01.995Z"
   },
   {
    "duration": 5,
    "start_time": "2024-08-09T20:22:03.138Z"
   },
   {
    "duration": 433,
    "start_time": "2024-08-09T20:22:03.145Z"
   },
   {
    "duration": 8,
    "start_time": "2024-08-09T20:22:03.581Z"
   },
   {
    "duration": 38,
    "start_time": "2024-08-09T20:22:03.593Z"
   },
   {
    "duration": 13,
    "start_time": "2024-08-09T20:22:03.634Z"
   },
   {
    "duration": 21,
    "start_time": "2024-08-09T20:22:03.650Z"
   },
   {
    "duration": 727,
    "start_time": "2024-08-09T20:22:03.673Z"
   },
   {
    "duration": 232,
    "start_time": "2024-08-09T20:22:04.406Z"
   },
   {
    "duration": 263881,
    "start_time": "2024-08-09T20:22:04.641Z"
   },
   {
    "duration": 1362,
    "start_time": "2024-08-09T20:26:28.525Z"
   },
   {
    "duration": 468,
    "start_time": "2024-08-09T20:26:29.891Z"
   },
   {
    "duration": 9,
    "start_time": "2024-08-09T20:28:21.345Z"
   },
   {
    "duration": 1621,
    "start_time": "2024-08-09T20:31:55.337Z"
   },
   {
    "duration": 669,
    "start_time": "2024-08-09T20:33:12.106Z"
   },
   {
    "duration": 579,
    "start_time": "2024-08-09T20:34:08.566Z"
   },
   {
    "duration": 553,
    "start_time": "2024-08-09T20:35:03.189Z"
   },
   {
    "duration": 11,
    "start_time": "2024-08-09T20:35:33.706Z"
   },
   {
    "duration": 711,
    "start_time": "2024-08-09T20:35:52.059Z"
   },
   {
    "duration": 10,
    "start_time": "2024-08-09T20:44:41.624Z"
   },
   {
    "duration": 192,
    "start_time": "2024-08-09T20:49:20.402Z"
   },
   {
    "duration": 91,
    "start_time": "2024-08-09T20:51:24.910Z"
   },
   {
    "duration": 896,
    "start_time": "2024-08-09T20:54:08.949Z"
   },
   {
    "duration": 159974,
    "start_time": "2024-08-09T20:55:26.102Z"
   },
   {
    "duration": 660,
    "start_time": "2024-08-09T21:25:41.532Z"
   },
   {
    "duration": 7,
    "start_time": "2024-08-09T21:25:47.630Z"
   },
   {
    "duration": 10,
    "start_time": "2024-08-09T21:25:49.103Z"
   },
   {
    "duration": 606,
    "start_time": "2024-08-09T21:26:04.400Z"
   },
   {
    "duration": 9,
    "start_time": "2024-08-09T21:26:12.097Z"
   },
   {
    "duration": 759,
    "start_time": "2024-08-09T21:26:22.822Z"
   },
   {
    "duration": 120,
    "start_time": "2024-08-09T21:26:56.570Z"
   },
   {
    "duration": 735,
    "start_time": "2024-08-09T21:27:04.487Z"
   },
   {
    "duration": 8,
    "start_time": "2024-08-09T21:27:20.544Z"
   },
   {
    "duration": 252,
    "start_time": "2024-08-09T21:27:21.203Z"
   },
   {
    "duration": 1699,
    "start_time": "2024-08-09T21:27:56.781Z"
   },
   {
    "duration": 26,
    "start_time": "2024-08-09T21:27:58.484Z"
   },
   {
    "duration": 4,
    "start_time": "2024-08-09T21:27:58.513Z"
   },
   {
    "duration": 14,
    "start_time": "2024-08-09T21:27:58.533Z"
   },
   {
    "duration": 16,
    "start_time": "2024-08-09T21:27:58.550Z"
   },
   {
    "duration": 13,
    "start_time": "2024-08-09T21:27:58.568Z"
   },
   {
    "duration": 50,
    "start_time": "2024-08-09T21:27:58.584Z"
   },
   {
    "duration": 382,
    "start_time": "2024-08-09T21:27:58.637Z"
   },
   {
    "duration": 1069,
    "start_time": "2024-08-09T21:27:59.022Z"
   },
   {
    "duration": 4,
    "start_time": "2024-08-09T21:28:00.097Z"
   },
   {
    "duration": 426,
    "start_time": "2024-08-09T21:28:00.105Z"
   },
   {
    "duration": 7,
    "start_time": "2024-08-09T21:28:00.535Z"
   },
   {
    "duration": 10,
    "start_time": "2024-08-09T21:28:00.545Z"
   },
   {
    "duration": 10,
    "start_time": "2024-08-09T21:28:00.558Z"
   },
   {
    "duration": 151,
    "start_time": "2024-08-09T21:28:00.571Z"
   },
   {
    "duration": 709,
    "start_time": "2024-08-09T21:28:00.725Z"
   },
   {
    "duration": 216,
    "start_time": "2024-08-09T21:28:01.437Z"
   },
   {
    "duration": 1850,
    "start_time": "2024-08-09T21:28:01.731Z"
   },
   {
    "duration": 653,
    "start_time": "2024-08-09T21:28:03.586Z"
   },
   {
    "duration": 830,
    "start_time": "2024-08-09T21:28:04.242Z"
   },
   {
    "duration": 160516,
    "start_time": "2024-08-09T21:28:05.076Z"
   },
   {
    "duration": 200321,
    "start_time": "2024-08-09T21:31:41.978Z"
   },
   {
    "duration": 307,
    "start_time": "2024-08-09T23:32:39.130Z"
   },
   {
    "duration": 5399,
    "start_time": "2024-08-09T23:32:46.615Z"
   },
   {
    "duration": 39,
    "start_time": "2024-08-09T23:32:52.022Z"
   },
   {
    "duration": 5,
    "start_time": "2024-08-09T23:32:52.064Z"
   },
   {
    "duration": 14,
    "start_time": "2024-08-09T23:32:52.072Z"
   },
   {
    "duration": 39,
    "start_time": "2024-08-09T23:32:52.091Z"
   },
   {
    "duration": 13,
    "start_time": "2024-08-09T23:32:52.133Z"
   },
   {
    "duration": 14,
    "start_time": "2024-08-09T23:32:52.150Z"
   },
   {
    "duration": 401,
    "start_time": "2024-08-09T23:32:52.167Z"
   },
   {
    "duration": 1041,
    "start_time": "2024-08-09T23:32:52.571Z"
   },
   {
    "duration": 5,
    "start_time": "2024-08-09T23:32:53.614Z"
   },
   {
    "duration": 430,
    "start_time": "2024-08-09T23:32:53.623Z"
   },
   {
    "duration": 9,
    "start_time": "2024-08-09T23:32:54.056Z"
   },
   {
    "duration": 12,
    "start_time": "2024-08-09T23:32:54.068Z"
   },
   {
    "duration": 44,
    "start_time": "2024-08-09T23:32:54.086Z"
   },
   {
    "duration": 205,
    "start_time": "2024-08-09T23:32:54.133Z"
   },
   {
    "duration": 719,
    "start_time": "2024-08-09T23:32:54.341Z"
   },
   {
    "duration": 188,
    "start_time": "2024-08-09T23:32:55.063Z"
   },
   {
    "duration": 1319,
    "start_time": "2024-08-09T23:32:55.323Z"
   },
   {
    "duration": 678,
    "start_time": "2024-08-09T23:32:56.645Z"
   },
   {
    "duration": 800,
    "start_time": "2024-08-09T23:32:57.326Z"
   },
   {
    "duration": 202747,
    "start_time": "2024-08-09T23:32:58.129Z"
   },
   {
    "duration": 1296,
    "start_time": "2024-08-09T23:36:20.882Z"
   },
   {
    "duration": 863,
    "start_time": "2024-08-09T23:50:15.022Z"
   },
   {
    "duration": 768,
    "start_time": "2024-08-09T23:50:26.389Z"
   },
   {
    "duration": 1779,
    "start_time": "2024-08-09T23:50:51.408Z"
   },
   {
    "duration": 37,
    "start_time": "2024-08-09T23:50:53.191Z"
   },
   {
    "duration": 5,
    "start_time": "2024-08-09T23:50:53.231Z"
   },
   {
    "duration": 13,
    "start_time": "2024-08-09T23:50:53.241Z"
   },
   {
    "duration": 17,
    "start_time": "2024-08-09T23:50:53.257Z"
   },
   {
    "duration": 55,
    "start_time": "2024-08-09T23:50:53.278Z"
   },
   {
    "duration": 18,
    "start_time": "2024-08-09T23:50:53.343Z"
   },
   {
    "duration": 387,
    "start_time": "2024-08-09T23:50:53.365Z"
   },
   {
    "duration": 1076,
    "start_time": "2024-08-09T23:50:53.755Z"
   },
   {
    "duration": 4,
    "start_time": "2024-08-09T23:50:54.838Z"
   },
   {
    "duration": 433,
    "start_time": "2024-08-09T23:50:54.845Z"
   },
   {
    "duration": 7,
    "start_time": "2024-08-09T23:50:55.281Z"
   },
   {
    "duration": 34,
    "start_time": "2024-08-09T23:50:55.291Z"
   },
   {
    "duration": 11,
    "start_time": "2024-08-09T23:50:55.331Z"
   },
   {
    "duration": 137,
    "start_time": "2024-08-09T23:50:55.345Z"
   },
   {
    "duration": 725,
    "start_time": "2024-08-09T23:50:55.485Z"
   },
   {
    "duration": 226,
    "start_time": "2024-08-09T23:50:56.214Z"
   },
   {
    "duration": 1381,
    "start_time": "2024-08-09T23:50:56.443Z"
   },
   {
    "duration": 618,
    "start_time": "2024-08-09T23:50:57.826Z"
   },
   {
    "duration": 819,
    "start_time": "2024-08-09T23:50:58.446Z"
   },
   {
    "duration": 213204,
    "start_time": "2024-08-09T23:50:59.268Z"
   },
   {
    "duration": 566,
    "start_time": "2024-08-09T23:56:21.087Z"
   },
   {
    "duration": 912,
    "start_time": "2024-08-09T23:56:38.982Z"
   },
   {
    "duration": 19,
    "start_time": "2024-08-09T23:57:43.166Z"
   },
   {
    "duration": 13,
    "start_time": "2024-08-09T23:58:08.659Z"
   },
   {
    "duration": 14,
    "start_time": "2024-08-09T23:58:10.756Z"
   },
   {
    "duration": 667,
    "start_time": "2024-08-09T23:58:14.024Z"
   },
   {
    "duration": 210,
    "start_time": "2024-08-09T23:58:18.034Z"
   },
   {
    "duration": 17,
    "start_time": "2024-08-10T00:00:17.440Z"
   },
   {
    "duration": 20,
    "start_time": "2024-08-10T00:01:57.831Z"
   },
   {
    "duration": 19,
    "start_time": "2024-08-10T00:01:59.466Z"
   },
   {
    "duration": 14,
    "start_time": "2024-08-10T00:02:00.596Z"
   },
   {
    "duration": 670,
    "start_time": "2024-08-10T00:02:07.594Z"
   },
   {
    "duration": 25,
    "start_time": "2024-08-10T00:03:47.870Z"
   },
   {
    "duration": 22,
    "start_time": "2024-08-10T00:03:49.315Z"
   },
   {
    "duration": 15,
    "start_time": "2024-08-10T00:03:52.021Z"
   },
   {
    "duration": 668,
    "start_time": "2024-08-10T00:03:53.988Z"
   },
   {
    "duration": 222,
    "start_time": "2024-08-10T00:03:55.420Z"
   },
   {
    "duration": 1281,
    "start_time": "2024-08-10T00:03:57.799Z"
   },
   {
    "duration": 21,
    "start_time": "2024-08-10T00:05:16.669Z"
   },
   {
    "duration": 20,
    "start_time": "2024-08-10T00:05:28.715Z"
   },
   {
    "duration": 28,
    "start_time": "2024-08-10T00:05:29.919Z"
   },
   {
    "duration": 15,
    "start_time": "2024-08-10T00:05:32.624Z"
   },
   {
    "duration": 5636,
    "start_time": "2024-08-10T13:51:51.865Z"
   },
   {
    "duration": 59,
    "start_time": "2024-08-10T13:51:57.506Z"
   },
   {
    "duration": 5,
    "start_time": "2024-08-10T13:51:57.568Z"
   },
   {
    "duration": 15,
    "start_time": "2024-08-10T13:51:57.577Z"
   },
   {
    "duration": 18,
    "start_time": "2024-08-10T13:51:57.595Z"
   },
   {
    "duration": 14,
    "start_time": "2024-08-10T13:51:57.617Z"
   },
   {
    "duration": 15,
    "start_time": "2024-08-10T13:51:57.634Z"
   },
   {
    "duration": 422,
    "start_time": "2024-08-10T13:51:57.652Z"
   },
   {
    "duration": 1060,
    "start_time": "2024-08-10T13:51:58.078Z"
   },
   {
    "duration": 5,
    "start_time": "2024-08-10T13:51:59.144Z"
   },
   {
    "duration": 449,
    "start_time": "2024-08-10T13:51:59.152Z"
   },
   {
    "duration": 9,
    "start_time": "2024-08-10T13:51:59.605Z"
   },
   {
    "duration": 10,
    "start_time": "2024-08-10T13:51:59.618Z"
   },
   {
    "duration": 12,
    "start_time": "2024-08-10T13:51:59.632Z"
   },
   {
    "duration": 66,
    "start_time": "2024-08-10T13:51:59.647Z"
   },
   {
    "duration": 17,
    "start_time": "2024-08-10T13:51:59.717Z"
   },
   {
    "duration": 17,
    "start_time": "2024-08-10T13:51:59.737Z"
   },
   {
    "duration": 813,
    "start_time": "2024-08-10T13:51:59.757Z"
   },
   {
    "duration": 243,
    "start_time": "2024-08-10T13:52:00.574Z"
   },
   {
    "duration": 1323,
    "start_time": "2024-08-10T13:52:00.821Z"
   },
   {
    "duration": 678,
    "start_time": "2024-08-10T13:52:02.147Z"
   },
   {
    "duration": 849,
    "start_time": "2024-08-10T13:52:02.903Z"
   },
   {
    "duration": 5,
    "start_time": "2024-08-10T13:52:03.756Z"
   },
   {
    "duration": 317,
    "start_time": "2024-08-10T19:39:41.854Z"
   },
   {
    "duration": 5724,
    "start_time": "2024-08-10T19:39:58.880Z"
   },
   {
    "duration": 40,
    "start_time": "2024-08-10T19:40:04.607Z"
   },
   {
    "duration": 5,
    "start_time": "2024-08-10T19:40:04.650Z"
   },
   {
    "duration": 14,
    "start_time": "2024-08-10T19:40:04.658Z"
   },
   {
    "duration": 37,
    "start_time": "2024-08-10T19:40:04.676Z"
   },
   {
    "duration": 16,
    "start_time": "2024-08-10T19:40:04.717Z"
   },
   {
    "duration": 19,
    "start_time": "2024-08-10T19:40:04.737Z"
   },
   {
    "duration": 394,
    "start_time": "2024-08-10T19:40:04.792Z"
   },
   {
    "duration": 1044,
    "start_time": "2024-08-10T19:40:05.192Z"
   },
   {
    "duration": 5,
    "start_time": "2024-08-10T19:40:06.239Z"
   },
   {
    "duration": 433,
    "start_time": "2024-08-10T19:40:06.248Z"
   },
   {
    "duration": 12,
    "start_time": "2024-08-10T19:40:06.684Z"
   },
   {
    "duration": 11,
    "start_time": "2024-08-10T19:40:06.699Z"
   },
   {
    "duration": 11,
    "start_time": "2024-08-10T19:40:06.716Z"
   },
   {
    "duration": 154,
    "start_time": "2024-08-10T19:40:06.731Z"
   },
   {
    "duration": 17,
    "start_time": "2024-08-10T19:40:06.891Z"
   },
   {
    "duration": 17,
    "start_time": "2024-08-10T19:40:06.912Z"
   },
   {
    "duration": 726,
    "start_time": "2024-08-10T19:40:06.932Z"
   },
   {
    "duration": 236,
    "start_time": "2024-08-10T19:40:07.661Z"
   },
   {
    "duration": 1292,
    "start_time": "2024-08-10T19:40:07.900Z"
   },
   {
    "duration": 694,
    "start_time": "2024-08-10T19:40:09.196Z"
   },
   {
    "duration": 830,
    "start_time": "2024-08-10T19:40:09.893Z"
   },
   {
    "duration": 306172,
    "start_time": "2024-08-10T19:40:10.726Z"
   },
   {
    "duration": 5423,
    "start_time": "2024-08-10T20:11:41.271Z"
   },
   {
    "duration": 36,
    "start_time": "2024-08-10T20:11:46.699Z"
   },
   {
    "duration": 5,
    "start_time": "2024-08-10T20:11:46.738Z"
   },
   {
    "duration": 14,
    "start_time": "2024-08-10T20:11:46.746Z"
   },
   {
    "duration": 17,
    "start_time": "2024-08-10T20:11:46.765Z"
   },
   {
    "duration": 53,
    "start_time": "2024-08-10T20:11:46.785Z"
   },
   {
    "duration": 13,
    "start_time": "2024-08-10T20:11:46.841Z"
   },
   {
    "duration": 405,
    "start_time": "2024-08-10T20:11:46.857Z"
   },
   {
    "duration": 1004,
    "start_time": "2024-08-10T20:11:47.265Z"
   },
   {
    "duration": 4,
    "start_time": "2024-08-10T20:11:48.273Z"
   },
   {
    "duration": 497,
    "start_time": "2024-08-10T20:11:48.280Z"
   },
   {
    "duration": 7,
    "start_time": "2024-08-10T20:11:48.780Z"
   },
   {
    "duration": 43,
    "start_time": "2024-08-10T20:11:48.791Z"
   },
   {
    "duration": 11,
    "start_time": "2024-08-10T20:11:48.839Z"
   },
   {
    "duration": 20,
    "start_time": "2024-08-10T20:11:48.853Z"
   },
   {
    "duration": 16,
    "start_time": "2024-08-10T20:11:48.877Z"
   },
   {
    "duration": 17,
    "start_time": "2024-08-10T20:11:48.933Z"
   },
   {
    "duration": 857,
    "start_time": "2024-08-10T20:11:48.953Z"
   },
   {
    "duration": 227,
    "start_time": "2024-08-10T20:11:49.813Z"
   },
   {
    "duration": 1335,
    "start_time": "2024-08-10T20:11:50.045Z"
   },
   {
    "duration": 759,
    "start_time": "2024-08-10T20:11:51.384Z"
   },
   {
    "duration": 923,
    "start_time": "2024-08-10T20:11:52.146Z"
   },
   {
    "duration": 463,
    "start_time": "2024-08-10T20:11:53.071Z"
   },
   {
    "duration": 5488,
    "start_time": "2024-08-11T18:25:49.242Z"
   },
   {
    "duration": 38,
    "start_time": "2024-08-11T18:25:54.733Z"
   },
   {
    "duration": 5,
    "start_time": "2024-08-11T18:25:54.774Z"
   },
   {
    "duration": 13,
    "start_time": "2024-08-11T18:25:54.784Z"
   },
   {
    "duration": 36,
    "start_time": "2024-08-11T18:25:54.800Z"
   },
   {
    "duration": 14,
    "start_time": "2024-08-11T18:25:54.839Z"
   },
   {
    "duration": 3,
    "start_time": "2024-08-11T18:25:54.859Z"
   },
   {
    "duration": 13,
    "start_time": "2024-08-11T18:25:54.864Z"
   },
   {
    "duration": 400,
    "start_time": "2024-08-11T18:25:54.880Z"
   },
   {
    "duration": 1042,
    "start_time": "2024-08-11T18:25:55.285Z"
   },
   {
    "duration": 5,
    "start_time": "2024-08-11T18:25:56.330Z"
   },
   {
    "duration": 441,
    "start_time": "2024-08-11T18:25:56.338Z"
   },
   {
    "duration": 7,
    "start_time": "2024-08-11T18:25:56.782Z"
   },
   {
    "duration": 10,
    "start_time": "2024-08-11T18:25:56.793Z"
   },
   {
    "duration": 13,
    "start_time": "2024-08-11T18:25:56.831Z"
   },
   {
    "duration": 122,
    "start_time": "2024-08-11T18:25:56.847Z"
   },
   {
    "duration": 17,
    "start_time": "2024-08-11T18:25:56.972Z"
   },
   {
    "duration": 39,
    "start_time": "2024-08-11T18:25:56.992Z"
   },
   {
    "duration": 717,
    "start_time": "2024-08-11T18:25:57.035Z"
   },
   {
    "duration": 278,
    "start_time": "2024-08-11T18:25:57.755Z"
   },
   {
    "duration": 1395,
    "start_time": "2024-08-11T18:25:58.036Z"
   },
   {
    "duration": 615,
    "start_time": "2024-08-11T18:25:59.435Z"
   },
   {
    "duration": 883,
    "start_time": "2024-08-11T18:26:00.053Z"
   },
   {
    "duration": 306084,
    "start_time": "2024-08-11T18:26:00.941Z"
   },
   {
    "duration": 471,
    "start_time": "2024-08-11T19:34:10.133Z"
   },
   {
    "duration": 11,
    "start_time": "2024-08-11T19:36:09.324Z"
   },
   {
    "duration": 56,
    "start_time": "2024-08-11T19:36:19.922Z"
   },
   {
    "duration": 152,
    "start_time": "2024-08-11T19:37:26.193Z"
   },
   {
    "duration": 897,
    "start_time": "2024-08-11T19:38:02.005Z"
   },
   {
    "duration": 30,
    "start_time": "2024-08-11T19:40:12.180Z"
   },
   {
    "duration": 11,
    "start_time": "2024-08-11T19:42:45.865Z"
   },
   {
    "duration": 53,
    "start_time": "2024-08-11T19:51:25.086Z"
   },
   {
    "duration": 2021,
    "start_time": "2024-08-11T19:55:22.353Z"
   },
   {
    "duration": 31,
    "start_time": "2024-08-11T19:55:24.377Z"
   },
   {
    "duration": 5,
    "start_time": "2024-08-11T19:55:24.410Z"
   },
   {
    "duration": 14,
    "start_time": "2024-08-11T19:55:24.433Z"
   },
   {
    "duration": 15,
    "start_time": "2024-08-11T19:55:24.450Z"
   },
   {
    "duration": 13,
    "start_time": "2024-08-11T19:55:24.468Z"
   },
   {
    "duration": 54,
    "start_time": "2024-08-11T19:55:24.484Z"
   },
   {
    "duration": 384,
    "start_time": "2024-08-11T19:55:24.542Z"
   },
   {
    "duration": 1088,
    "start_time": "2024-08-11T19:55:24.931Z"
   },
   {
    "duration": 4,
    "start_time": "2024-08-11T19:55:26.025Z"
   },
   {
    "duration": 421,
    "start_time": "2024-08-11T19:55:26.033Z"
   },
   {
    "duration": 7,
    "start_time": "2024-08-11T19:55:26.458Z"
   },
   {
    "duration": 10,
    "start_time": "2024-08-11T19:55:26.468Z"
   },
   {
    "duration": 48,
    "start_time": "2024-08-11T19:55:26.482Z"
   },
   {
    "duration": 22,
    "start_time": "2024-08-11T19:55:26.533Z"
   },
   {
    "duration": 17,
    "start_time": "2024-08-11T19:55:26.558Z"
   },
   {
    "duration": 15,
    "start_time": "2024-08-11T19:55:26.578Z"
   },
   {
    "duration": 720,
    "start_time": "2024-08-11T19:55:26.631Z"
   },
   {
    "duration": 277,
    "start_time": "2024-08-11T19:55:27.354Z"
   },
   {
    "duration": 701,
    "start_time": "2024-08-11T19:55:27.634Z"
   },
   {
    "duration": 826,
    "start_time": "2024-08-11T19:55:28.337Z"
   },
   {
    "duration": 307167,
    "start_time": "2024-08-11T19:55:29.166Z"
   },
   {
    "duration": 1901,
    "start_time": "2024-08-11T20:06:19.593Z"
   },
   {
    "duration": 35,
    "start_time": "2024-08-11T20:06:21.497Z"
   },
   {
    "duration": 4,
    "start_time": "2024-08-11T20:06:21.535Z"
   },
   {
    "duration": 13,
    "start_time": "2024-08-11T20:06:21.543Z"
   },
   {
    "duration": 16,
    "start_time": "2024-08-11T20:06:21.559Z"
   },
   {
    "duration": 52,
    "start_time": "2024-08-11T20:06:21.578Z"
   },
   {
    "duration": 14,
    "start_time": "2024-08-11T20:06:21.633Z"
   },
   {
    "duration": 412,
    "start_time": "2024-08-11T20:06:21.649Z"
   },
   {
    "duration": 1095,
    "start_time": "2024-08-11T20:06:22.064Z"
   },
   {
    "duration": 4,
    "start_time": "2024-08-11T20:06:23.165Z"
   },
   {
    "duration": 426,
    "start_time": "2024-08-11T20:06:23.172Z"
   },
   {
    "duration": 8,
    "start_time": "2024-08-11T20:06:23.600Z"
   },
   {
    "duration": 10,
    "start_time": "2024-08-11T20:06:23.631Z"
   },
   {
    "duration": 11,
    "start_time": "2024-08-11T20:06:23.646Z"
   },
   {
    "duration": 19,
    "start_time": "2024-08-11T20:06:23.661Z"
   },
   {
    "duration": 52,
    "start_time": "2024-08-11T20:06:23.683Z"
   },
   {
    "duration": 15,
    "start_time": "2024-08-11T20:06:23.738Z"
   },
   {
    "duration": 284,
    "start_time": "2024-08-11T20:06:23.757Z"
   },
   {
    "duration": 695,
    "start_time": "2024-08-11T20:06:24.046Z"
   },
   {
    "duration": 831,
    "start_time": "2024-08-11T20:06:24.744Z"
   },
   {
    "duration": 308256,
    "start_time": "2024-08-11T20:06:25.578Z"
   },
   {
    "duration": 1908,
    "start_time": "2024-08-11T20:17:42.866Z"
   },
   {
    "duration": 36,
    "start_time": "2024-08-11T20:17:44.777Z"
   },
   {
    "duration": 5,
    "start_time": "2024-08-11T20:17:44.815Z"
   },
   {
    "duration": 15,
    "start_time": "2024-08-11T20:17:44.833Z"
   },
   {
    "duration": 16,
    "start_time": "2024-08-11T20:17:44.850Z"
   },
   {
    "duration": 13,
    "start_time": "2024-08-11T20:17:44.868Z"
   },
   {
    "duration": 55,
    "start_time": "2024-08-11T20:17:44.884Z"
   },
   {
    "duration": 370,
    "start_time": "2024-08-11T20:17:44.943Z"
   },
   {
    "duration": 1055,
    "start_time": "2024-08-11T20:17:45.316Z"
   },
   {
    "duration": 4,
    "start_time": "2024-08-11T20:17:46.376Z"
   },
   {
    "duration": 426,
    "start_time": "2024-08-11T20:17:46.385Z"
   },
   {
    "duration": 18,
    "start_time": "2024-08-11T20:17:46.814Z"
   },
   {
    "duration": 11,
    "start_time": "2024-08-11T20:17:46.835Z"
   },
   {
    "duration": 11,
    "start_time": "2024-08-11T20:17:46.848Z"
   },
   {
    "duration": 20,
    "start_time": "2024-08-11T20:17:46.863Z"
   },
   {
    "duration": 16,
    "start_time": "2024-08-11T20:17:46.930Z"
   },
   {
    "duration": 13,
    "start_time": "2024-08-11T20:17:46.949Z"
   },
   {
    "duration": 279,
    "start_time": "2024-08-11T20:17:46.966Z"
   },
   {
    "duration": 696,
    "start_time": "2024-08-11T20:17:47.248Z"
   },
   {
    "duration": 921,
    "start_time": "2024-08-11T20:17:47.946Z"
   },
   {
    "duration": 304754,
    "start_time": "2024-08-11T20:17:48.870Z"
   },
   {
    "duration": 1896,
    "start_time": "2024-08-11T20:35:48.081Z"
   },
   {
    "duration": 35,
    "start_time": "2024-08-11T20:35:49.980Z"
   },
   {
    "duration": 5,
    "start_time": "2024-08-11T20:35:50.018Z"
   },
   {
    "duration": 14,
    "start_time": "2024-08-11T20:35:50.034Z"
   },
   {
    "duration": 16,
    "start_time": "2024-08-11T20:35:50.051Z"
   },
   {
    "duration": 12,
    "start_time": "2024-08-11T20:35:50.071Z"
   },
   {
    "duration": 13,
    "start_time": "2024-08-11T20:35:50.130Z"
   },
   {
    "duration": 386,
    "start_time": "2024-08-11T20:35:50.146Z"
   },
   {
    "duration": 1096,
    "start_time": "2024-08-11T20:35:50.535Z"
   },
   {
    "duration": 5,
    "start_time": "2024-08-11T20:35:51.636Z"
   },
   {
    "duration": 470,
    "start_time": "2024-08-11T20:35:51.644Z"
   },
   {
    "duration": 17,
    "start_time": "2024-08-11T20:35:52.117Z"
   },
   {
    "duration": 11,
    "start_time": "2024-08-11T20:35:52.141Z"
   },
   {
    "duration": 11,
    "start_time": "2024-08-11T20:35:52.155Z"
   },
   {
    "duration": 19,
    "start_time": "2024-08-11T20:35:52.169Z"
   },
   {
    "duration": 59,
    "start_time": "2024-08-11T20:35:52.191Z"
   },
   {
    "duration": 16,
    "start_time": "2024-08-11T20:35:52.253Z"
   },
   {
    "duration": 385,
    "start_time": "2024-08-11T20:35:52.272Z"
   },
   {
    "duration": 778,
    "start_time": "2024-08-11T20:35:52.660Z"
   },
   {
    "duration": 844,
    "start_time": "2024-08-11T20:35:53.441Z"
   },
   {
    "duration": 306044,
    "start_time": "2024-08-11T20:35:54.290Z"
   },
   {
    "duration": 1917,
    "start_time": "2024-08-11T21:00:24.674Z"
   },
   {
    "duration": 31,
    "start_time": "2024-08-11T21:00:26.595Z"
   },
   {
    "duration": 6,
    "start_time": "2024-08-11T21:00:26.628Z"
   },
   {
    "duration": 14,
    "start_time": "2024-08-11T21:00:26.638Z"
   },
   {
    "duration": 15,
    "start_time": "2024-08-11T21:00:26.656Z"
   },
   {
    "duration": 13,
    "start_time": "2024-08-11T21:00:26.674Z"
   },
   {
    "duration": 14,
    "start_time": "2024-08-11T21:00:26.730Z"
   },
   {
    "duration": 394,
    "start_time": "2024-08-11T21:00:26.747Z"
   },
   {
    "duration": 1083,
    "start_time": "2024-08-11T21:00:27.144Z"
   },
   {
    "duration": 5,
    "start_time": "2024-08-11T21:00:28.232Z"
   },
   {
    "duration": 428,
    "start_time": "2024-08-11T21:00:28.240Z"
   },
   {
    "duration": 8,
    "start_time": "2024-08-11T21:00:28.670Z"
   },
   {
    "duration": 10,
    "start_time": "2024-08-11T21:00:28.680Z"
   },
   {
    "duration": 43,
    "start_time": "2024-08-11T21:00:28.694Z"
   },
   {
    "duration": 19,
    "start_time": "2024-08-11T21:00:28.740Z"
   },
   {
    "duration": 17,
    "start_time": "2024-08-11T21:00:28.762Z"
   },
   {
    "duration": 51,
    "start_time": "2024-08-11T21:00:28.781Z"
   },
   {
    "duration": 298,
    "start_time": "2024-08-11T21:00:28.835Z"
   },
   {
    "duration": 617,
    "start_time": "2024-08-11T21:00:29.136Z"
   },
   {
    "duration": 873,
    "start_time": "2024-08-11T21:00:29.755Z"
   },
   {
    "duration": 306787,
    "start_time": "2024-08-11T21:00:30.631Z"
   },
   {
    "duration": 1943,
    "start_time": "2024-08-11T21:07:40.270Z"
   },
   {
    "duration": 44,
    "start_time": "2024-08-11T21:07:42.216Z"
   },
   {
    "duration": 5,
    "start_time": "2024-08-11T21:07:42.263Z"
   },
   {
    "duration": 14,
    "start_time": "2024-08-11T21:07:42.272Z"
   },
   {
    "duration": 45,
    "start_time": "2024-08-11T21:07:42.291Z"
   },
   {
    "duration": 13,
    "start_time": "2024-08-11T21:07:42.339Z"
   },
   {
    "duration": 13,
    "start_time": "2024-08-11T21:07:42.355Z"
   },
   {
    "duration": 396,
    "start_time": "2024-08-11T21:07:42.371Z"
   },
   {
    "duration": 1074,
    "start_time": "2024-08-11T21:07:42.770Z"
   },
   {
    "duration": 5,
    "start_time": "2024-08-11T21:07:43.847Z"
   },
   {
    "duration": 435,
    "start_time": "2024-08-11T21:07:43.855Z"
   },
   {
    "duration": 8,
    "start_time": "2024-08-11T21:07:44.292Z"
   },
   {
    "duration": 34,
    "start_time": "2024-08-11T21:07:44.304Z"
   },
   {
    "duration": 11,
    "start_time": "2024-08-11T21:07:44.345Z"
   },
   {
    "duration": 22,
    "start_time": "2024-08-11T21:07:44.359Z"
   },
   {
    "duration": 54,
    "start_time": "2024-08-11T21:07:44.385Z"
   },
   {
    "duration": 15,
    "start_time": "2024-08-11T21:07:44.442Z"
   },
   {
    "duration": 279,
    "start_time": "2024-08-11T21:07:44.460Z"
   },
   {
    "duration": 693,
    "start_time": "2024-08-11T21:07:44.745Z"
   },
   {
    "duration": 846,
    "start_time": "2024-08-11T21:07:45.441Z"
   },
   {
    "duration": 308629,
    "start_time": "2024-08-11T21:07:46.291Z"
   },
   {
    "duration": 1949,
    "start_time": "2024-08-11T21:22:02.840Z"
   },
   {
    "duration": 31,
    "start_time": "2024-08-11T21:22:04.793Z"
   },
   {
    "duration": 5,
    "start_time": "2024-08-11T21:22:04.830Z"
   },
   {
    "duration": 14,
    "start_time": "2024-08-11T21:22:04.839Z"
   },
   {
    "duration": 16,
    "start_time": "2024-08-11T21:22:04.859Z"
   },
   {
    "duration": 53,
    "start_time": "2024-08-11T21:22:04.878Z"
   },
   {
    "duration": 13,
    "start_time": "2024-08-11T21:22:04.934Z"
   },
   {
    "duration": 383,
    "start_time": "2024-08-11T21:22:04.949Z"
   },
   {
    "duration": 1097,
    "start_time": "2024-08-11T21:22:05.335Z"
   },
   {
    "duration": 5,
    "start_time": "2024-08-11T21:22:06.435Z"
   },
   {
    "duration": 430,
    "start_time": "2024-08-11T21:22:06.444Z"
   },
   {
    "duration": 8,
    "start_time": "2024-08-11T21:22:06.876Z"
   },
   {
    "duration": 10,
    "start_time": "2024-08-11T21:22:06.888Z"
   },
   {
    "duration": 10,
    "start_time": "2024-08-11T21:22:06.933Z"
   },
   {
    "duration": 21,
    "start_time": "2024-08-11T21:22:06.946Z"
   },
   {
    "duration": 17,
    "start_time": "2024-08-11T21:22:06.970Z"
   },
   {
    "duration": 51,
    "start_time": "2024-08-11T21:22:06.989Z"
   },
   {
    "duration": 302,
    "start_time": "2024-08-11T21:22:07.043Z"
   },
   {
    "duration": 704,
    "start_time": "2024-08-11T21:22:07.349Z"
   },
   {
    "duration": 810,
    "start_time": "2024-08-11T21:22:08.132Z"
   },
   {
    "duration": 309280,
    "start_time": "2024-08-11T21:22:08.945Z"
   },
   {
    "duration": 10827,
    "start_time": "2024-08-11T21:27:18.232Z"
   },
   {
    "duration": 883,
    "start_time": "2024-08-11T21:27:29.063Z"
   },
   {
    "duration": 17417,
    "start_time": "2024-08-11T21:31:15.609Z"
   }
  ],
  "kernelspec": {
   "display_name": "Python 3 (ipykernel)",
   "language": "python",
   "name": "python3"
  },
  "language_info": {
   "codemirror_mode": {
    "name": "ipython",
    "version": 3
   },
   "file_extension": ".py",
   "mimetype": "text/x-python",
   "name": "python",
   "nbconvert_exporter": "python",
   "pygments_lexer": "ipython3",
   "version": "3.9.19"
  },
  "toc": {
   "base_numbering": 1,
   "nav_menu": {},
   "number_sections": true,
   "sideBar": true,
   "skip_h1_title": true,
   "title_cell": "Table of Contents",
   "title_sidebar": "Contents",
   "toc_cell": false,
   "toc_position": {},
   "toc_section_display": true,
   "toc_window_display": false
  }
 },
 "nbformat": 4,
 "nbformat_minor": 2
}
